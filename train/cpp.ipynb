{
 "cells": [
  {
   "cell_type": "code",
   "execution_count": 16,
   "id": "6bf3976b-e8ef-45b9-bb1f-220485eca5b5",
   "metadata": {},
   "outputs": [],
   "source": [
    "from typing import List\n",
    "from llama_cpp import Llama"
   ]
  },
  {
   "cell_type": "code",
   "execution_count": 17,
   "id": "8aa19ba0-4496-49fe-becf-a2e2a62ee47b",
   "metadata": {},
   "outputs": [],
   "source": [
    "class Explainer:\n",
    "    generation_kwargs = {\n",
    "        \"max_tokens\": 500,  # Max number of new tokens to generate\n",
    "        \"stop\": [\"<eos>\"],  # Text sequences to stop generation on\n",
    "        \"echo\": False,  # Echo the prompt in the output\n",
    "        \"top_k\": 1\n",
    "    }\n",
    "\n",
    "    model_kwargs = {\n",
    "        \"n_ctx\": 512,  # Context length to use\n",
    "        \"n_threads\": 4,  # Number of CPU threads to use\n",
    "        \"n_gpu_layers\": 0,  # Number of model layers to offload to GPU. Set to 0 if only using CPU\n",
    "    }\n",
    "\n",
    "    llama_prompt = \"\"\"\n",
    "    ### Input:\n",
    "    {}\n",
    "\n",
    "    ### Response:\n",
    "    {}\"\"\"\n",
    "\n",
    "    def __init__(self, repo_id: str, model_file_name: str) -> None:\n",
    "        self.llm = Llama.from_pretrained(\n",
    "            repo_id=repo_id,\n",
    "            filename=model_file_name,\n",
    "            verbose=True,\n",
    "            model_type=\"llama\"\n",
    "        )\n",
    "\n",
    "    @staticmethod\n",
    "    def __create_text_message(messages: List[str]) -> str:\n",
    "        \"\"\"\n",
    "        Concatenates text messages in string-list\n",
    "\n",
    "        :param messages: list of string messages\n",
    "        :return: str concatenated messages string\n",
    "        \"\"\"\n",
    "        message_text = \"\"\n",
    "        for message in messages:\n",
    "            message_text += f\"- {message}\\n\"\n",
    "\n",
    "        return message_text\n",
    "\n",
    "    def predict(self, messages: List[str]) -> str:\n",
    "        messages_text = self.__create_text_message(messages)\n",
    "        prompt = self.llama_prompt.format(messages_text, '')\n",
    "        summary = self.llm(prompt, **self.generation_kwargs)\n",
    "        return summary[\"choices\"][0]['text'].strip()\n"
   ]
  },
  {
   "cell_type": "code",
   "execution_count": 18,
   "id": "f2a42040-c052-44fb-a81c-b1e8b41200d3",
   "metadata": {},
   "outputs": [],
   "source": [
    "messages = ['дополнение к кате', \n",
    "'поиграть', \n",
    "'я могу не надолго отойти?', \n",
    "'на компьютере стикеры странные почему так', \n",
    "'А у меня интернет сегодня прям в ударе', \n",
    "'можно в крокодила поиграть', \n",
    "'посмотрите что за стикер', \n",
    "'реально, окантовка слишком большая', \n",
    "'на телефоне они какие-то аккуратненькие, а тут тяп ляп какой то', \n",
    "'корм', \n",
    "'эмодзи', \n",
    "'вор', \n",
    "'Человек', \n",
    "'пухляшь', \n",
    "'лунтик', \n",
    "'человек пьет кофе', \n",
    "'шлепа' \n",
    "]"
   ]
  },
  {
   "cell_type": "code",
   "execution_count": 20,
   "id": "b8b14737-e052-43a1-93a6-9be5e6e586ac",
   "metadata": {},
   "outputs": [
    {
     "data": {
      "application/vnd.jupyter.widget-view+json": {
       "model_id": "9c2f43d4c637405aa9b700ecbca140b4",
       "version_major": 2,
       "version_minor": 0
      },
      "text/plain": [
       "./gemma_gguf_v2-unsloth.Q4_K_M.gguf:   0%|          | 0.00/1.63G [00:00<?, ?B/s]"
      ]
     },
     "metadata": {},
     "output_type": "display_data"
    },
    {
     "name": "stderr",
     "output_type": "stream",
     "text": [
      "llama_model_loader: loaded meta data with 27 key-value pairs and 164 tensors from /root/.cache/huggingface/hub/models--gromoboy--gemma_gguf_v2/snapshots/f300c3770aec5f164b0f405e65ae2ff6038e3ab9/./gemma_gguf_v2-unsloth.Q4_K_M.gguf (version GGUF V3 (latest))\n",
      "llama_model_loader: Dumping metadata keys/values. Note: KV overrides do not apply in this output.\n",
      "llama_model_loader: - kv   0:                       general.architecture str              = gemma\n",
      "llama_model_loader: - kv   1:                               general.name str              = gemma_gguf_v2\n",
      "llama_model_loader: - kv   2:                       gemma.context_length u32              = 8192\n",
      "llama_model_loader: - kv   3:                     gemma.embedding_length u32              = 2048\n",
      "llama_model_loader: - kv   4:                          gemma.block_count u32              = 18\n",
      "llama_model_loader: - kv   5:                  gemma.feed_forward_length u32              = 16384\n",
      "llama_model_loader: - kv   6:                 gemma.attention.head_count u32              = 8\n",
      "llama_model_loader: - kv   7:              gemma.attention.head_count_kv u32              = 1\n",
      "llama_model_loader: - kv   8:     gemma.attention.layer_norm_rms_epsilon f32              = 0.000001\n",
      "llama_model_loader: - kv   9:                 gemma.attention.key_length u32              = 256\n",
      "llama_model_loader: - kv  10:               gemma.attention.value_length u32              = 256\n",
      "llama_model_loader: - kv  11:                          general.file_type u32              = 15\n",
      "llama_model_loader: - kv  12:                       tokenizer.ggml.model str              = llama\n",
      "llama_model_loader: - kv  13:                      tokenizer.ggml.tokens arr[str,256000]  = [\"<pad>\", \"<eos>\", \"<bos>\", \"<unk>\", ...\n",
      "llama_model_loader: - kv  14:                      tokenizer.ggml.scores arr[f32,256000]  = [0.000000, 0.000000, 0.000000, 0.0000...\n",
      "llama_model_loader: - kv  15:                  tokenizer.ggml.token_type arr[i32,256000]  = [3, 3, 3, 2, 1, 1, 1, 1, 1, 1, 1, 1, ...\n",
      "llama_model_loader: - kv  16:                tokenizer.ggml.bos_token_id u32              = 2\n",
      "llama_model_loader: - kv  17:                tokenizer.ggml.eos_token_id u32              = 1\n",
      "llama_model_loader: - kv  18:            tokenizer.ggml.unknown_token_id u32              = 3\n",
      "llama_model_loader: - kv  19:            tokenizer.ggml.padding_token_id u32              = 0\n",
      "llama_model_loader: - kv  20:               tokenizer.ggml.add_bos_token bool             = true\n",
      "llama_model_loader: - kv  21:               tokenizer.ggml.add_eos_token bool             = false\n",
      "llama_model_loader: - kv  22:             tokenizer.ggml.prefix_token_id u32              = 67\n",
      "llama_model_loader: - kv  23:             tokenizer.ggml.suffix_token_id u32              = 69\n",
      "llama_model_loader: - kv  24:             tokenizer.ggml.middle_token_id u32              = 68\n",
      "llama_model_loader: - kv  25:                tokenizer.ggml.eot_token_id u32              = 107\n",
      "llama_model_loader: - kv  26:               general.quantization_version u32              = 2\n",
      "llama_model_loader: - type  f32:   37 tensors\n",
      "llama_model_loader: - type q4_K:  108 tensors\n",
      "llama_model_loader: - type q6_K:   19 tensors\n",
      "llm_load_vocab: mismatch in special tokens definition ( 416/256000 vs 260/256000 ).\n",
      "llm_load_print_meta: format           = GGUF V3 (latest)\n",
      "llm_load_print_meta: arch             = gemma\n",
      "llm_load_print_meta: vocab type       = SPM\n",
      "llm_load_print_meta: n_vocab          = 256000\n",
      "llm_load_print_meta: n_merges         = 0\n",
      "llm_load_print_meta: n_ctx_train      = 8192\n",
      "llm_load_print_meta: n_embd           = 2048\n",
      "llm_load_print_meta: n_head           = 8\n",
      "llm_load_print_meta: n_head_kv        = 1\n",
      "llm_load_print_meta: n_layer          = 18\n",
      "llm_load_print_meta: n_rot            = 256\n",
      "llm_load_print_meta: n_embd_head_k    = 256\n",
      "llm_load_print_meta: n_embd_head_v    = 256\n",
      "llm_load_print_meta: n_gqa            = 8\n",
      "llm_load_print_meta: n_embd_k_gqa     = 256\n",
      "llm_load_print_meta: n_embd_v_gqa     = 256\n",
      "llm_load_print_meta: f_norm_eps       = 0.0e+00\n",
      "llm_load_print_meta: f_norm_rms_eps   = 1.0e-06\n",
      "llm_load_print_meta: f_clamp_kqv      = 0.0e+00\n",
      "llm_load_print_meta: f_max_alibi_bias = 0.0e+00\n",
      "llm_load_print_meta: f_logit_scale    = 0.0e+00\n",
      "llm_load_print_meta: n_ff             = 16384\n",
      "llm_load_print_meta: n_expert         = 0\n",
      "llm_load_print_meta: n_expert_used    = 0\n",
      "llm_load_print_meta: causal attn      = 1\n",
      "llm_load_print_meta: pooling type     = 0\n",
      "llm_load_print_meta: rope type        = 2\n",
      "llm_load_print_meta: rope scaling     = linear\n",
      "llm_load_print_meta: freq_base_train  = 10000.0\n",
      "llm_load_print_meta: freq_scale_train = 1\n",
      "llm_load_print_meta: n_yarn_orig_ctx  = 8192\n",
      "llm_load_print_meta: rope_finetuned   = unknown\n",
      "llm_load_print_meta: ssm_d_conv       = 0\n",
      "llm_load_print_meta: ssm_d_inner      = 0\n",
      "llm_load_print_meta: ssm_d_state      = 0\n",
      "llm_load_print_meta: ssm_dt_rank      = 0\n",
      "llm_load_print_meta: model type       = 2B\n",
      "llm_load_print_meta: model ftype      = Q4_K - Medium\n",
      "llm_load_print_meta: model params     = 2.51 B\n",
      "llm_load_print_meta: model size       = 1.51 GiB (5.18 BPW) \n",
      "llm_load_print_meta: general.name     = gemma_gguf_v2\n",
      "llm_load_print_meta: BOS token        = 2 '<bos>'\n",
      "llm_load_print_meta: EOS token        = 1 '<eos>'\n",
      "llm_load_print_meta: UNK token        = 3 '<unk>'\n",
      "llm_load_print_meta: PAD token        = 0 '<pad>'\n",
      "llm_load_print_meta: LF token         = 227 '<0x0A>'\n",
      "llm_load_print_meta: PRE token        = 67 '<unused60>'\n",
      "llm_load_print_meta: SUF token        = 69 '<unused62>'\n",
      "llm_load_print_meta: MID token        = 68 '<unused61>'\n",
      "llm_load_print_meta: EOT token        = 107 '<end_of_turn>'\n",
      "llm_load_tensors: ggml ctx size =    0.08 MiB\n",
      "llm_load_tensors:        CPU buffer size =  1548.98 MiB\n",
      "........................................................\n",
      "llama_new_context_with_model: n_ctx      = 512\n",
      "llama_new_context_with_model: n_batch    = 512\n",
      "llama_new_context_with_model: n_ubatch   = 512\n",
      "llama_new_context_with_model: freq_base  = 10000.0\n",
      "llama_new_context_with_model: freq_scale = 1\n",
      "llama_kv_cache_init:        CPU KV buffer size =     9.00 MiB\n",
      "llama_new_context_with_model: KV self size  =    9.00 MiB, K (f16):    4.50 MiB, V (f16):    4.50 MiB\n",
      "llama_new_context_with_model:        CPU  output buffer size =     0.98 MiB\n",
      "llama_new_context_with_model:        CPU compute buffer size =   504.00 MiB\n",
      "llama_new_context_with_model: graph nodes  = 601\n",
      "llama_new_context_with_model: graph splits = 1\n",
      "AVX = 1 | AVX_VNNI = 0 | AVX2 = 1 | AVX512 = 0 | AVX512_VBMI = 0 | AVX512_VNNI = 0 | FMA = 1 | NEON = 0 | ARM_FMA = 0 | F16C = 1 | FP16_VA = 0 | WASM_SIMD = 0 | BLAS = 0 | SSE3 = 1 | SSSE3 = 1 | VSX = 0 | MATMUL_INT8 = 0 | LAMMAFILE = 1 | \n",
      "Model metadata: {'tokenizer.ggml.middle_token_id': '68', 'tokenizer.ggml.suffix_token_id': '69', 'tokenizer.ggml.add_eos_token': 'false', 'tokenizer.ggml.padding_token_id': '0', 'tokenizer.ggml.unknown_token_id': '3', 'tokenizer.ggml.eos_token_id': '1', 'tokenizer.ggml.bos_token_id': '2', 'general.architecture': 'gemma', 'tokenizer.ggml.eot_token_id': '107', 'gemma.feed_forward_length': '16384', 'tokenizer.ggml.add_bos_token': 'true', 'gemma.attention.head_count': '8', 'general.name': 'gemma_gguf_v2', 'gemma.context_length': '8192', 'gemma.embedding_length': '2048', 'gemma.block_count': '18', 'gemma.attention.head_count_kv': '1', 'gemma.attention.key_length': '256', 'general.quantization_version': '2', 'tokenizer.ggml.model': 'llama', 'tokenizer.ggml.prefix_token_id': '67', 'gemma.attention.layer_norm_rms_epsilon': '0.000001', 'gemma.attention.value_length': '256', 'general.file_type': '15'}\n",
      "Using fallback chat format: None\n"
     ]
    }
   ],
   "source": [
    "explain = Explainer(\"gromoboy/gemma_gguf_v2\", \"gemma_gguf_v2-unsloth.Q4_K_M.gguf\")"
   ]
  },
  {
   "cell_type": "code",
   "execution_count": 21,
   "id": "2a703d32-f188-4114-84f7-3b140213968a",
   "metadata": {},
   "outputs": [
    {
     "name": "stderr",
     "output_type": "stream",
     "text": [
      "\n",
      "llama_print_timings:        load time =    2617.88 ms\n",
      "llama_print_timings:      sample time =     201.55 ms /    53 runs   (    3.80 ms per token,   262.96 tokens per second)\n",
      "llama_print_timings: prompt eval time =    2617.53 ms /   149 tokens (   17.57 ms per token,    56.92 tokens per second)\n",
      "llama_print_timings:        eval time =    2489.97 ms /    52 runs   (   47.88 ms per token,    20.88 tokens per second)\n",
      "llama_print_timings:       total time =    7482.32 ms /   201 tokens\n"
     ]
    },
    {
     "name": "stdout",
     "output_type": "stream",
     "text": [
      "CPU times: user 2min 44s, sys: 15.9 s, total: 2min 59s\n",
      "Wall time: 7.49 s\n"
     ]
    },
    {
     "data": {
      "text/plain": [
       "'Негативные аспекты: технические неполадки, проблемы с интернет-соединением. Положительные аспекты: возможность поиграть в компьютерные игры и в крокодилов, интерес к стикерам, возможность накормить животных.'"
      ]
     },
     "execution_count": 21,
     "metadata": {},
     "output_type": "execute_result"
    }
   ],
   "source": [
    "%%time\n",
    "explain.predict(messages)"
   ]
  },
  {
   "cell_type": "code",
   "execution_count": null,
   "id": "bed68a33-2803-4160-b104-9fe2b2c1c7ac",
   "metadata": {},
   "outputs": [],
   "source": []
  },
  {
   "cell_type": "code",
   "execution_count": null,
   "id": "2b1ccc31-c40e-4d68-9af6-5af262cb1f83",
   "metadata": {},
   "outputs": [],
   "source": []
  },
  {
   "cell_type": "code",
   "execution_count": 2,
   "id": "0e67a6db-90ef-4350-85af-b6555cb39483",
   "metadata": {},
   "outputs": [
    {
     "name": "stdout",
     "output_type": "stream",
     "text": [
      "Collecting llama-cpp-python\n",
      "  Downloading llama_cpp_python-0.2.65.tar.gz (38.0 MB)\n",
      "\u001b[2K     \u001b[90m━━━━━━━━━━━━━━━━━━━━━━━━━━━━━━━━━━━━━━━━\u001b[0m \u001b[32m38.0/38.0 MB\u001b[0m \u001b[31m44.3 MB/s\u001b[0m eta \u001b[36m0:00:00\u001b[0m00:01\u001b[0m00:01\u001b[0m\n",
      "\u001b[?25h  Installing build dependencies ... \u001b[?25ldone\n",
      "\u001b[?25h  Getting requirements to build wheel ... \u001b[?25ldone\n",
      "\u001b[?25h  Installing backend dependencies ... \u001b[?25ldone\n",
      "\u001b[?25h  Preparing metadata (pyproject.toml) ... \u001b[?25ldone\n",
      "\u001b[?25hRequirement already satisfied: typing-extensions>=4.5.0 in /opt/conda/lib/python3.10/site-packages (from llama-cpp-python) (4.9.0)\n",
      "Requirement already satisfied: numpy>=1.20.0 in /opt/conda/lib/python3.10/site-packages (from llama-cpp-python) (1.26.3)\n",
      "Collecting diskcache>=5.6.1 (from llama-cpp-python)\n",
      "  Downloading diskcache-5.6.3-py3-none-any.whl.metadata (20 kB)\n",
      "Requirement already satisfied: jinja2>=2.11.3 in /opt/conda/lib/python3.10/site-packages (from llama-cpp-python) (3.1.3)\n",
      "Requirement already satisfied: MarkupSafe>=2.0 in /opt/conda/lib/python3.10/site-packages (from jinja2>=2.11.3->llama-cpp-python) (2.1.3)\n",
      "Downloading diskcache-5.6.3-py3-none-any.whl (45 kB)\n",
      "\u001b[2K   \u001b[90m━━━━━━━━━━━━━━━━━━━━━━━━━━━━━━━━━━━━━━━━\u001b[0m \u001b[32m45.5/45.5 kB\u001b[0m \u001b[31m5.6 MB/s\u001b[0m eta \u001b[36m0:00:00\u001b[0m\n",
      "\u001b[?25hBuilding wheels for collected packages: llama-cpp-python\n",
      "  Building wheel for llama-cpp-python (pyproject.toml) ... \u001b[?25ldone\n",
      "\u001b[?25h  Created wheel for llama-cpp-python: filename=llama_cpp_python-0.2.65-cp310-cp310-linux_x86_64.whl size=3329810 sha256=241dc7498e384a40553283267b3e00b3469bb130ea4523509d87b3438f73c4a5\n",
      "  Stored in directory: /root/.cache/pip/wheels/46/37/bf/f7c65dbafa5b3845795c23b6634863c1fdf0a9f40678de225e\n",
      "Successfully built llama-cpp-python\n",
      "Installing collected packages: diskcache, llama-cpp-python\n",
      "Successfully installed diskcache-5.6.3 llama-cpp-python-0.2.65\n",
      "\u001b[33mWARNING: Running pip as the 'root' user can result in broken permissions and conflicting behaviour with the system package manager. It is recommended to use a virtual environment instead: https://pip.pypa.io/warnings/venv\u001b[0m\u001b[33m\n",
      "\u001b[0m"
     ]
    }
   ],
   "source": [
    "!pip install llama-cpp-python"
   ]
  },
  {
   "cell_type": "code",
   "execution_count": null,
   "id": "a120bca5-e2bd-485e-8b0c-e5f67b78c7f8",
   "metadata": {},
   "outputs": [],
   "source": []
  }
 ],
 "metadata": {
  "kernelspec": {
   "display_name": "Python 3 (ipykernel)",
   "language": "python",
   "name": "python3"
  },
  "language_info": {
   "codemirror_mode": {
    "name": "ipython",
    "version": 3
   },
   "file_extension": ".py",
   "mimetype": "text/x-python",
   "name": "python",
   "nbconvert_exporter": "python",
   "pygments_lexer": "ipython3",
   "version": "3.10.13"
  }
 },
 "nbformat": 4,
 "nbformat_minor": 5
}
